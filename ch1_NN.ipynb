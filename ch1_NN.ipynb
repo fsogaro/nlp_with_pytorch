{
 "cells": [
  {
   "cell_type": "code",
   "execution_count": null,
   "metadata": {},
   "outputs": [],
   "source": [
    "# some simple commands"
   ]
  },
  {
   "cell_type": "code",
   "execution_count": null,
   "metadata": {},
   "outputs": [],
   "source": [
    "import torch\n"
   ]
  },
  {
   "cell_type": "code",
   "execution_count": null,
   "metadata": {},
   "outputs": [],
   "source": [
    "x = torch.tensor([1., 2.])\n",
    "y = torch.tensor([3., 2.])\n",
    "x"
   ]
  },
  {
   "cell_type": "code",
   "execution_count": null,
   "metadata": {},
   "outputs": [],
   "source": [
    "x * y"
   ]
  },
  {
   "cell_type": "code",
   "execution_count": null,
   "metadata": {},
   "outputs": [],
   "source": [
    "x = torch.tensor([\n",
    "                  [1., 2.], \n",
    "                  [3., 2.], \n",
    "                  [0., 4.],\n",
    "                 ])\n",
    "print(x[0][1])\n",
    "x[0][1].item()"
   ]
  },
  {
   "cell_type": "code",
   "execution_count": null,
   "metadata": {},
   "outputs": [],
   "source": [
    "x.shape"
   ]
  },
  {
   "cell_type": "code",
   "execution_count": null,
   "metadata": {},
   "outputs": [],
   "source": [
    "y.shape"
   ]
  },
  {
   "cell_type": "code",
   "execution_count": null,
   "metadata": {},
   "outputs": [],
   "source": [
    "torch"
   ]
  },
  {
   "cell_type": "code",
   "execution_count": null,
   "metadata": {},
   "outputs": [],
   "source": [
    "# y = torch.tensor([3., 2.], device=\"cuda\")\n"
   ]
  },
  {
   "cell_type": "code",
   "execution_count": null,
   "metadata": {},
   "outputs": [],
   "source": [
    "# example with mnist\n"
   ]
  },
  {
   "cell_type": "code",
   "execution_count": 4,
   "metadata": {},
   "outputs": [],
   "source": [
    "import pandas as pd\n",
    "import numpy as np\n",
    "import torch\n",
    "from torch import nn, optim\n",
    "from torch.autograd import Variable\n",
    "\n",
    "import torch.nn.functional as F\n",
    "\n",
    "import torch.utils.data as data"
   ]
  },
  {
   "cell_type": "code",
   "execution_count": 5,
   "metadata": {},
   "outputs": [],
   "source": [
    "train = pd.read_csv(\"../data/mnist/train.csv\")"
   ]
  },
  {
   "cell_type": "code",
   "execution_count": 6,
   "metadata": {},
   "outputs": [],
   "source": [
    "train_labels = train.label.values\n",
    "train = train.drop(columns=\"label\").values.reshape(len(train_labels), 1, 28, 28)"
   ]
  },
  {
   "cell_type": "code",
   "execution_count": null,
   "metadata": {},
   "outputs": [],
   "source": []
  },
  {
   "cell_type": "code",
   "execution_count": 7,
   "metadata": {},
   "outputs": [],
   "source": [
    "# reshape for a NN"
   ]
  },
  {
   "cell_type": "code",
   "execution_count": null,
   "metadata": {},
   "outputs": [],
   "source": []
  },
  {
   "cell_type": "code",
   "execution_count": 8,
   "metadata": {},
   "outputs": [],
   "source": [
    "# build neural network"
   ]
  },
  {
   "cell_type": "code",
   "execution_count": null,
   "metadata": {},
   "outputs": [],
   "source": []
  },
  {
   "cell_type": "code",
   "execution_count": 9,
   "metadata": {},
   "outputs": [
    {
     "data": {
      "text/plain": [
       "array([1, 0, 1, ..., 7, 6, 9])"
      ]
     },
     "execution_count": 9,
     "metadata": {},
     "output_type": "execute_result"
    }
   ],
   "source": [
    "train_labels"
   ]
  },
  {
   "cell_type": "code",
   "execution_count": null,
   "metadata": {},
   "outputs": [],
   "source": []
  },
  {
   "cell_type": "code",
   "execution_count": 10,
   "metadata": {},
   "outputs": [],
   "source": [
    "class MNISTClassifier(nn.Module):\n",
    "    def __init__(self):\n",
    "        super().__init__()\n",
    "        num_labels = len(set(train_labels))\n",
    "        img_height = 28\n",
    "        img_width = 28 \n",
    "        s_in = img_height * img_width\n",
    "        s2 = 392\n",
    "        s3 = 196\n",
    "        s4 = 98\n",
    "        s_out = num_labels\n",
    "        \n",
    "        self.fc1 = nn.Linear(s_in, s2) # fully connected\n",
    "        self.fc2 = nn.Linear(s2, s3)\n",
    "        self.fc3 = nn.Linear(s3, s4)\n",
    "        self.fc4 = nn.Linear(s4, s_out)\n",
    "        # regularise NN to avoid overfitting\n",
    "        self.dropout = nn.Dropout(p=0.2) # 20% of nodes will be randomly \n",
    "                                         # not used during training iterations \n",
    "                                         # makes network more robust since each node\n",
    "                                          # will not be used in every iteration.\n",
    "    def forward(self, x):\n",
    "        \"\"\"forward pass\"\"\"\n",
    "        x = x.view(x.shape[0], -1) # flatten img size to one long vector\n",
    "        x = self.dropout(F.relu(self.fc1(x)))\n",
    "        x = self.dropout(F.relu(self.fc2(x)))\n",
    "        x = self.dropout(F.relu(self.fc3(x)))\n",
    "        x = F.log_softmax(self.fc4(x), dim=1)\n",
    "        return x\n",
    "\n",
    "            \n"
   ]
  },
  {
   "cell_type": "code",
   "execution_count": 11,
   "metadata": {},
   "outputs": [],
   "source": [
    "model = MNISTClassifier()\n",
    "loss_function = nn.NLLLoss() # negative log likelyhood -> loss = -log(y)\n",
    "opt = optim.Adam(model.parameters(), lr=0.001)"
   ]
  },
  {
   "cell_type": "code",
   "execution_count": 12,
   "metadata": {},
   "outputs": [
    {
     "data": {
      "text/plain": [
       "Adam (\n",
       "Parameter Group 0\n",
       "    amsgrad: False\n",
       "    betas: (0.9, 0.999)\n",
       "    eps: 1e-08\n",
       "    lr: 0.001\n",
       "    weight_decay: 0\n",
       ")"
      ]
     },
     "execution_count": 12,
     "metadata": {},
     "output_type": "execute_result"
    }
   ],
   "source": [
    "opt"
   ]
  },
  {
   "cell_type": "code",
   "execution_count": 13,
   "metadata": {},
   "outputs": [
    {
     "data": {
      "text/plain": [
       "NLLLoss()"
      ]
     },
     "execution_count": 13,
     "metadata": {},
     "output_type": "execute_result"
    }
   ],
   "source": [
    "loss_function"
   ]
  },
  {
   "cell_type": "code",
   "execution_count": 14,
   "metadata": {},
   "outputs": [
    {
     "data": {
      "text/plain": [
       "MNISTClassifier(\n",
       "  (fc1): Linear(in_features=784, out_features=392, bias=True)\n",
       "  (fc2): Linear(in_features=392, out_features=196, bias=True)\n",
       "  (fc3): Linear(in_features=196, out_features=98, bias=True)\n",
       "  (fc4): Linear(in_features=98, out_features=10, bias=True)\n",
       "  (dropout): Dropout(p=0.2, inplace=False)\n",
       ")"
      ]
     },
     "execution_count": 14,
     "metadata": {},
     "output_type": "execute_result"
    }
   ],
   "source": [
    "model"
   ]
  },
  {
   "cell_type": "code",
   "execution_count": 18,
   "metadata": {},
   "outputs": [],
   "source": [
    "# pytorch requires features to be floats for gradients\n",
    "# NB  these are torch.Tensor not torch.tensors, \n",
    "# the difference is that Tensor is a class, while tensor is a function that turns some data into a Tensor object\n",
    "\n",
    "y = torch.Tensor(train_labels).long() # long -> 64bit integers\n",
    "# enforce labels as integers\n",
    "X = torch.Tensor(train.astype(float)) # 32bit floating-point numbers \n"
   ]
  },
  {
   "cell_type": "code",
   "execution_count": null,
   "metadata": {},
   "outputs": [],
   "source": []
  },
  {
   "cell_type": "code",
   "execution_count": 21,
   "metadata": {},
   "outputs": [
    {
     "name": "stdout",
     "output_type": "stream",
     "text": [
      "epoch 0/50 Loss: 0.23938871920108795\n",
      "epoch 1/50 Loss: 0.23301757872104645\n",
      "epoch 2/50 Loss: 0.23362398147583008\n",
      "epoch 3/50 Loss: 0.22745436429977417\n",
      "epoch 4/50 Loss: 0.22325892746448517\n",
      "epoch 5/50 Loss: 0.2213897407054901\n",
      "epoch 6/50 Loss: 0.21610398590564728\n",
      "epoch 7/50 Loss: 0.21413403749465942\n",
      "epoch 8/50 Loss: 0.20667961239814758\n",
      "epoch 9/50 Loss: 0.208415225148201\n",
      "epoch 10/50 Loss: 0.2006233036518097\n",
      "epoch 11/50 Loss: 0.19843028485774994\n",
      "epoch 12/50 Loss: 0.19707491993904114\n",
      "epoch 13/50 Loss: 0.19387491047382355\n",
      "epoch 14/50 Loss: 0.18685035407543182\n",
      "epoch 15/50 Loss: 0.18974031507968903\n",
      "epoch 16/50 Loss: 0.18532033264636993\n",
      "epoch 17/50 Loss: 0.1812715381383896\n",
      "epoch 18/50 Loss: 0.18038570880889893\n",
      "epoch 19/50 Loss: 0.18083032965660095\n",
      "epoch 20/50 Loss: 0.17309242486953735\n",
      "epoch 21/50 Loss: 0.17113377153873444\n",
      "epoch 22/50 Loss: 0.17231051623821259\n",
      "epoch 23/50 Loss: 0.16696247458457947\n",
      "epoch 24/50 Loss: 0.16861405968666077\n",
      "epoch 25/50 Loss: 0.1653262823820114\n",
      "epoch 26/50 Loss: 0.16561901569366455\n",
      "epoch 27/50 Loss: 0.16226421296596527\n",
      "epoch 28/50 Loss: 0.1580260545015335\n",
      "epoch 29/50 Loss: 0.15490570664405823\n",
      "epoch 30/50 Loss: 0.15597626566886902\n",
      "epoch 31/50 Loss: 0.15241074562072754\n",
      "epoch 32/50 Loss: 0.14965692162513733\n",
      "epoch 33/50 Loss: 0.15174046158790588\n",
      "epoch 34/50 Loss: 0.1494690626859665\n",
      "epoch 35/50 Loss: 0.14651639759540558\n",
      "epoch 36/50 Loss: 0.14455418288707733\n",
      "epoch 37/50 Loss: 0.14414472877979279\n",
      "epoch 38/50 Loss: 0.1366002857685089\n",
      "epoch 39/50 Loss: 0.13697682321071625\n",
      "epoch 40/50 Loss: 0.13857004046440125\n",
      "epoch 41/50 Loss: 0.13535965979099274\n",
      "epoch 42/50 Loss: 0.13511520624160767\n",
      "epoch 43/50 Loss: 0.13163143396377563\n",
      "epoch 44/50 Loss: 0.1344999372959137\n",
      "epoch 45/50 Loss: 0.13158714771270752\n",
      "epoch 46/50 Loss: 0.12696072459220886\n",
      "epoch 47/50 Loss: 0.1267394721508026\n",
      "epoch 48/50 Loss: 0.12519054114818573\n",
      "epoch 49/50 Loss: 0.12062708288431168\n"
     ]
    }
   ],
   "source": [
    "# Training\n",
    "epochs = 50\n",
    "# transform to variable so that they have the \"backward()\" method\n",
    "images = Variable(X)\n",
    "labels = Variable(y)\n",
    "\n",
    "for epoch in range(epochs):\n",
    "    # set all gradients to zero first\n",
    "    # gradients are calculated cumulatively on each back prop which is useful in RNNs\n",
    "    # but in this case we want the gradient of the epoch only\n",
    "    # so after each pass re-set it to zero\n",
    "    opt.zero_grad() \n",
    "    # make  the forward pass:\n",
    "    outputs = model(images)\n",
    "    # calculate the loss\n",
    "    loss = loss_function(outputs, labels)\n",
    "    # backprop the loss\n",
    "    loss.backward()\n",
    "    # update the model paramates using the optimiser\n",
    "    opt.step()\n",
    "    # print the total loss\n",
    "    print(f\"epoch {epoch}/{epochs} Loss: {loss.data.item()}\")"
   ]
  },
  {
   "cell_type": "code",
   "execution_count": null,
   "metadata": {},
   "outputs": [],
   "source": [
    "# making predictions:"
   ]
  },
  {
   "cell_type": "code",
   "execution_count": 57,
   "metadata": {},
   "outputs": [
    {
     "data": {
      "text/html": [
       "<div>\n",
       "<style scoped>\n",
       "    .dataframe tbody tr th:only-of-type {\n",
       "        vertical-align: middle;\n",
       "    }\n",
       "\n",
       "    .dataframe tbody tr th {\n",
       "        vertical-align: top;\n",
       "    }\n",
       "\n",
       "    .dataframe thead th {\n",
       "        text-align: right;\n",
       "    }\n",
       "</style>\n",
       "<table border=\"1\" class=\"dataframe\">\n",
       "  <thead>\n",
       "    <tr style=\"text-align: right;\">\n",
       "      <th></th>\n",
       "      <th>label</th>\n",
       "      <th>pixel0</th>\n",
       "      <th>pixel1</th>\n",
       "      <th>pixel2</th>\n",
       "      <th>pixel3</th>\n",
       "      <th>pixel4</th>\n",
       "      <th>pixel5</th>\n",
       "      <th>pixel6</th>\n",
       "      <th>pixel7</th>\n",
       "      <th>pixel8</th>\n",
       "      <th>...</th>\n",
       "      <th>pixel774</th>\n",
       "      <th>pixel775</th>\n",
       "      <th>pixel776</th>\n",
       "      <th>pixel777</th>\n",
       "      <th>pixel778</th>\n",
       "      <th>pixel779</th>\n",
       "      <th>pixel780</th>\n",
       "      <th>pixel781</th>\n",
       "      <th>pixel782</th>\n",
       "      <th>pixel783</th>\n",
       "    </tr>\n",
       "  </thead>\n",
       "  <tbody>\n",
       "    <tr>\n",
       "      <th>0</th>\n",
       "      <td>9</td>\n",
       "      <td>0</td>\n",
       "      <td>0</td>\n",
       "      <td>0</td>\n",
       "      <td>0</td>\n",
       "      <td>0</td>\n",
       "      <td>0</td>\n",
       "      <td>0</td>\n",
       "      <td>0</td>\n",
       "      <td>0</td>\n",
       "      <td>...</td>\n",
       "      <td>0</td>\n",
       "      <td>0</td>\n",
       "      <td>0</td>\n",
       "      <td>0</td>\n",
       "      <td>0</td>\n",
       "      <td>0</td>\n",
       "      <td>0</td>\n",
       "      <td>0</td>\n",
       "      <td>0</td>\n",
       "      <td>0</td>\n",
       "    </tr>\n",
       "    <tr>\n",
       "      <th>1</th>\n",
       "      <td>5</td>\n",
       "      <td>0</td>\n",
       "      <td>0</td>\n",
       "      <td>0</td>\n",
       "      <td>0</td>\n",
       "      <td>0</td>\n",
       "      <td>0</td>\n",
       "      <td>0</td>\n",
       "      <td>0</td>\n",
       "      <td>0</td>\n",
       "      <td>...</td>\n",
       "      <td>0</td>\n",
       "      <td>0</td>\n",
       "      <td>0</td>\n",
       "      <td>0</td>\n",
       "      <td>0</td>\n",
       "      <td>0</td>\n",
       "      <td>0</td>\n",
       "      <td>0</td>\n",
       "      <td>0</td>\n",
       "      <td>0</td>\n",
       "    </tr>\n",
       "    <tr>\n",
       "      <th>2</th>\n",
       "      <td>2</td>\n",
       "      <td>0</td>\n",
       "      <td>0</td>\n",
       "      <td>0</td>\n",
       "      <td>0</td>\n",
       "      <td>0</td>\n",
       "      <td>0</td>\n",
       "      <td>0</td>\n",
       "      <td>0</td>\n",
       "      <td>0</td>\n",
       "      <td>...</td>\n",
       "      <td>0</td>\n",
       "      <td>0</td>\n",
       "      <td>0</td>\n",
       "      <td>0</td>\n",
       "      <td>0</td>\n",
       "      <td>0</td>\n",
       "      <td>0</td>\n",
       "      <td>0</td>\n",
       "      <td>0</td>\n",
       "      <td>0</td>\n",
       "    </tr>\n",
       "    <tr>\n",
       "      <th>3</th>\n",
       "      <td>4</td>\n",
       "      <td>0</td>\n",
       "      <td>0</td>\n",
       "      <td>0</td>\n",
       "      <td>0</td>\n",
       "      <td>0</td>\n",
       "      <td>0</td>\n",
       "      <td>0</td>\n",
       "      <td>0</td>\n",
       "      <td>0</td>\n",
       "      <td>...</td>\n",
       "      <td>0</td>\n",
       "      <td>0</td>\n",
       "      <td>0</td>\n",
       "      <td>0</td>\n",
       "      <td>0</td>\n",
       "      <td>0</td>\n",
       "      <td>0</td>\n",
       "      <td>0</td>\n",
       "      <td>0</td>\n",
       "      <td>0</td>\n",
       "    </tr>\n",
       "    <tr>\n",
       "      <th>4</th>\n",
       "      <td>1</td>\n",
       "      <td>0</td>\n",
       "      <td>0</td>\n",
       "      <td>0</td>\n",
       "      <td>0</td>\n",
       "      <td>0</td>\n",
       "      <td>0</td>\n",
       "      <td>0</td>\n",
       "      <td>0</td>\n",
       "      <td>0</td>\n",
       "      <td>...</td>\n",
       "      <td>0</td>\n",
       "      <td>0</td>\n",
       "      <td>0</td>\n",
       "      <td>0</td>\n",
       "      <td>0</td>\n",
       "      <td>0</td>\n",
       "      <td>0</td>\n",
       "      <td>0</td>\n",
       "      <td>0</td>\n",
       "      <td>0</td>\n",
       "    </tr>\n",
       "  </tbody>\n",
       "</table>\n",
       "<p>5 rows × 785 columns</p>\n",
       "</div>"
      ],
      "text/plain": [
       "   label  pixel0  pixel1  pixel2  pixel3  pixel4  pixel5  pixel6  pixel7  \\\n",
       "0      9       0       0       0       0       0       0       0       0   \n",
       "1      5       0       0       0       0       0       0       0       0   \n",
       "2      2       0       0       0       0       0       0       0       0   \n",
       "3      4       0       0       0       0       0       0       0       0   \n",
       "4      1       0       0       0       0       0       0       0       0   \n",
       "\n",
       "   pixel8  ...  pixel774  pixel775  pixel776  pixel777  pixel778  pixel779  \\\n",
       "0       0  ...         0         0         0         0         0         0   \n",
       "1       0  ...         0         0         0         0         0         0   \n",
       "2       0  ...         0         0         0         0         0         0   \n",
       "3       0  ...         0         0         0         0         0         0   \n",
       "4       0  ...         0         0         0         0         0         0   \n",
       "\n",
       "   pixel780  pixel781  pixel782  pixel783  \n",
       "0         0         0         0         0  \n",
       "1         0         0         0         0  \n",
       "2         0         0         0         0  \n",
       "3         0         0         0         0  \n",
       "4         0         0         0         0  \n",
       "\n",
       "[5 rows x 785 columns]"
      ]
     },
     "execution_count": 57,
     "metadata": {},
     "output_type": "execute_result"
    }
   ],
   "source": [
    "test =  pd.read_csv(\"../data/mnist/test.csv\", )\n",
    "test.head()"
   ]
  },
  {
   "cell_type": "code",
   "execution_count": 58,
   "metadata": {},
   "outputs": [],
   "source": [
    "import matplotlib.pyplot as plt\n"
   ]
  },
  {
   "cell_type": "code",
   "execution_count": 60,
   "metadata": {},
   "outputs": [],
   "source": [
    "test_labels = test.label.values\n",
    "test = test.drop(columns='label').values.reshape(len(test), 1, 28,28)"
   ]
  },
  {
   "cell_type": "code",
   "execution_count": 62,
   "metadata": {},
   "outputs": [],
   "source": [
    "X_test = torch.Tensor(test.astype(float))"
   ]
  },
  {
   "cell_type": "code",
   "execution_count": 63,
   "metadata": {},
   "outputs": [],
   "source": [
    "preds = model(X_test)"
   ]
  },
  {
   "cell_type": "code",
   "execution_count": 64,
   "metadata": {},
   "outputs": [],
   "source": [
    "_, prediction_label = torch.max(preds.data, 1)"
   ]
  },
  {
   "cell_type": "code",
   "execution_count": 65,
   "metadata": {},
   "outputs": [],
   "source": [
    "prediction_label =  prediction_label.tolist()"
   ]
  },
  {
   "cell_type": "code",
   "execution_count": null,
   "metadata": {},
   "outputs": [],
   "source": []
  },
  {
   "cell_type": "code",
   "execution_count": 83,
   "metadata": {},
   "outputs": [
    {
     "data": {
      "image/png": "[encoded data removed]",
      "text/plain": [
       "<Figure size 432x288 with 1 Axes>"
      ]
     },
     "metadata": {
      "needs_background": "light"
     },
     "output_type": "display_data"
    },
    {
     "name": "stdout",
     "output_type": "stream",
     "text": [
      "prediction for index 180 is 5, true value is 5\n"
     ]
    }
   ],
   "source": [
    "idx = np.random.randint(0, len(test_labels))\n",
    "plt.imshow(test[idx][0, :, :], cmap=plt.get_cmap('gray'))\n",
    "plt.show()\n",
    "print(f\"prediction for index {idx} is {prediction_label[idx]}, true value is {test_labels[idx]}\")"
   ]
  },
  {
   "cell_type": "code",
   "execution_count": 71,
   "metadata": {},
   "outputs": [
    {
     "name": "stdout",
     "output_type": "stream",
     "text": [
      " accuracy is: 0.96\n"
     ]
    }
   ],
   "source": [
    "correct = sum([int(yhat==ytrue) for yhat, ytrue in zip(prediction_label, test_labels)])\n",
    "print(f\" accuracy is: {correct/len(test_labels)}\")"
   ]
  },
  {
   "cell_type": "code",
   "execution_count": null,
   "metadata": {},
   "outputs": [],
   "source": []
  }
 ],
 "metadata": {
  "kernelspec": {
   "display_name": "Python 3",
   "language": "python",
   "name": "python3"
  },
  "language_info": {
   "codemirror_mode": {
    "name": "ipython",
    "version": 3
   },
   "file_extension": ".py",
   "mimetype": "text/x-python",
   "name": "python",
   "nbconvert_exporter": "python",
   "pygments_lexer": "ipython3",
   "version": "3.8.2"
  }
 },
 "nbformat": 4,
 "nbformat_minor": 4
}

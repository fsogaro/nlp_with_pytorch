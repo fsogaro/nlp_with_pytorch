{
 "cells": [
  {
   "cell_type": "code",
   "execution_count": null,
   "metadata": {},
   "outputs": [],
   "source": []
  },
  {
   "cell_type": "code",
   "execution_count": 1,
   "metadata": {
    "scrolled": true
   },
   "outputs": [],
   "source": [
    "from torchtext import data, datasets\n",
    "import torch\n",
    "import numpy  as np\n",
    "from torch import nn, optim"
   ]
  },
  {
   "cell_type": "code",
   "execution_count": 2,
   "metadata": {},
   "outputs": [
    {
     "name": "stderr",
     "output_type": "stream",
     "text": [
      "/Users/FrancescaSogaro/.pyenv/versions/3.8.2/lib/python3.8/site-packages/torchtext/data/field.py:150: UserWarning: Field class will be retired soon and moved to torchtext.legacy. Please see the most recent release notes for further information.\n",
      "  warnings.warn('{} class will be retired soon and moved to torchtext.legacy. Please see the most recent release notes for further information.'.format(self.__class__.__name__), UserWarning)\n",
      "/Users/FrancescaSogaro/.pyenv/versions/3.8.2/lib/python3.8/site-packages/torchtext/data/field.py:150: UserWarning: LabelField class will be retired soon and moved to torchtext.legacy. Please see the most recent release notes for further information.\n",
      "  warnings.warn('{} class will be retired soon and moved to torchtext.legacy. Please see the most recent release notes for further information.'.format(self.__class__.__name__), UserWarning)\n"
     ]
    }
   ],
   "source": [
    "questions =  data.Field(tokenize = 'spacy', batch_first = True) # uses spacy for tokenization\n",
    "labels = data.LabelField(dtype = torch.float) # sets as floats so we can caluclate gradients."
   ]
  },
  {
   "cell_type": "code",
   "execution_count": 3,
   "metadata": {},
   "outputs": [
    {
     "name": "stderr",
     "output_type": "stream",
     "text": [
      "/Users/FrancescaSogaro/.pyenv/versions/3.8.2/lib/python3.8/site-packages/torchtext/data/example.py:78: UserWarning: Example class will be retired soon and moved to torchtext.legacy. Please see the most recent release notes for further information.\n",
      "  warnings.warn('Example class will be retired soon and moved to torchtext.legacy. Please see the most recent release notes for further information.', UserWarning)\n"
     ]
    },
    {
     "name": "stdout",
     "output_type": "stream",
     "text": [
      "3816 1636\n"
     ]
    }
   ],
   "source": [
    "train_data, _ = datasets.TREC.splits(questions, labels)\n",
    "train_data, valid_data = train_data.split()\n",
    "print(len(train_data), len(valid_data))"
   ]
  },
  {
   "cell_type": "code",
   "execution_count": 4,
   "metadata": {},
   "outputs": [
    {
     "name": "stdout",
     "output_type": "stream",
     "text": [
      "['Who', 'was', 'the', 'famous', 'door', '-', 'to', '-', 'door', 'brush', 'salesman', '?']\n",
      "HUM\n"
     ]
    }
   ],
   "source": [
    "# visualise sample\n",
    "ith = np.random.randint(len(train_data))\n",
    "print(train_data.examples[ith].text)\n",
    "print(train_data.examples[ith].label)"
   ]
  },
  {
   "cell_type": "code",
   "execution_count": 5,
   "metadata": {},
   "outputs": [],
   "source": [
    "questions.build_vocab(train_data, vectors=\"glove.6B.200d\", unk_init=torch.Tensor.normal_)\n",
    "labels.build_vocab(train_data)"
   ]
  },
  {
   "cell_type": "code",
   "execution_count": 6,
   "metadata": {},
   "outputs": [
    {
     "data": {
      "text/plain": [
       "tensor([[ 0.3054, -0.1946, -0.7028,  ...,  0.3361, -1.2243,  1.1565],\n",
       "        [-1.0522,  0.7952, -1.7471,  ...,  0.9877,  1.5790,  1.4732],\n",
       "        [ 0.3911,  0.4019, -0.1505,  ..., -0.0348,  0.0798,  0.5031],\n",
       "        ...,\n",
       "        [ 0.2698, -0.3513,  0.0998,  ...,  0.1792,  0.0125, -0.0725],\n",
       "        [ 0.5741, -0.4343, -0.1119,  ...,  0.7629,  0.3831, -0.1570],\n",
       "        [-0.3643, -0.6794,  0.3678,  ..., -0.0382,  1.1400, -0.1825]])"
      ]
     },
     "execution_count": 6,
     "metadata": {},
     "output_type": "execute_result"
    }
   ],
   "source": [
    "questions.vocab.vectors"
   ]
  },
  {
   "cell_type": "code",
   "execution_count": 7,
   "metadata": {},
   "outputs": [
    {
     "name": "stderr",
     "output_type": "stream",
     "text": [
      "/Users/FrancescaSogaro/.pyenv/versions/3.8.2/lib/python3.8/site-packages/torchtext/data/iterator.py:48: UserWarning: BucketIterator class will be retired soon and moved to torchtext.legacy. Please see the most recent release notes for further information.\n",
      "  warnings.warn('{} class will be retired soon and moved to torchtext.legacy. Please see the most recent release notes for further information.'.format(self.__class__.__name__), UserWarning)\n"
     ]
    }
   ],
   "source": [
    "# create data iterators\n",
    "device = torch.device('cuda' if torch.cuda.is_available() else 'cpu')\n",
    "train_iterator, valid_iterator = data.BucketIterator.splits(\n",
    "    (train_data, valid_data), \n",
    "    batch_size = 64,\n",
    "    device = device\n",
    ")\n"
   ]
  },
  {
   "cell_type": "code",
   "execution_count": 12,
   "metadata": {},
   "outputs": [],
   "source": [
    "class CNN(nn.Module):\n",
    "    def __init__(self,\n",
    "                 vocab_size, \n",
    "                 embedding_dim, \n",
    "                 n_filters, \n",
    "                 filter_sizes, \n",
    "                 output_dim, \n",
    "                 dropout, \n",
    "                 pad_idx):\n",
    "        super().__init__()\n",
    "        self.embedding = nn.Embedding(num_embeddings=vocab_size,\n",
    "                                      embedding_dim=embedding_dim, \n",
    "                                      padding_idx=pad_idx) # padding_index ->index of embeddign used to pad to same length, define later manually\n",
    "        self.convs = nn.ModuleList( # define a list of convs layers\n",
    "            [nn.Conv2d(in_channels=1, # input text does not have channels\n",
    "                       out_channels=n_filters, # how many conv filters with same shape to train (same for all filter_sizes) \n",
    "                       kernel_size=(fs, embedding_dim)\n",
    "                      ) \n",
    "             for fs in filter_sizes]\n",
    "        )\n",
    "        \n",
    "        self.fc = nn.Linear(len(filter_sizes)*n_filters, output_dim)\n",
    "        self.dropout= nn.Dropout(dropout)\n",
    "        \n",
    "        \n",
    "    def forward(self, text):\n",
    "        emb = self.embedding(text).unsqueeze(1)\n",
    "        conved = [F.relu(conv2d(emb)).squeeze(3) for conv2d in self.convs]\n",
    "        pooled = [F.mac_pool1d(c , c.shape[2]).squeeze(2) for c in conved]\n",
    "        concat = self.dropout(torch.cat(pooled, dim=1))\n",
    "        return self.fc(concat)\n",
    "    "
   ]
  },
  {
   "cell_type": "code",
   "execution_count": 13,
   "metadata": {},
   "outputs": [],
   "source": [
    "input_dimension = len(questions.vocab)\n",
    "output_dimension = 6\n",
    "embedding_dimension = 200\n",
    "pad_index = questions.vocab.stoi[questions.pad_token]\n",
    "number_of_filters = 100\n",
    "filter_sizes = [2, 3, 4]\n",
    "dropout_pc = 0.5\n",
    "\n",
    "model = CNN(vocab_size=input_dimension, \n",
    "                 embedding_dim = embedding_dimension, \n",
    "                 n_filters = number_of_filters, \n",
    "                 filter_sizes = filter_sizes, \n",
    "                 output_dim = output_dimension, \n",
    "                 dropout=dropout_pc, \n",
    "                 pad_idx=pad_index)"
   ]
  },
  {
   "cell_type": "code",
   "execution_count": 16,
   "metadata": {},
   "outputs": [
    {
     "data": {
      "text/plain": [
       "tensor([[ 0.3054, -0.1946, -0.7028,  ...,  0.3361, -1.2243,  1.1565],\n",
       "        [-1.0522,  0.7952, -1.7471,  ...,  0.9877,  1.5790,  1.4732],\n",
       "        [ 0.3911,  0.4019, -0.1505,  ..., -0.0348,  0.0798,  0.5031],\n",
       "        ...,\n",
       "        [ 0.2698, -0.3513,  0.0998,  ...,  0.1792,  0.0125, -0.0725],\n",
       "        [ 0.5741, -0.4343, -0.1119,  ...,  0.7629,  0.3831, -0.1570],\n",
       "        [-0.3643, -0.6794,  0.3678,  ..., -0.0382,  1.1400, -0.1825]])"
      ]
     },
     "execution_count": 16,
     "metadata": {},
     "output_type": "execute_result"
    }
   ],
   "source": [
    "# load glove as embeddings  for tokens\n",
    "glove_embeddings = questions.vocab.vectors\n",
    "model.embedding.weight.data.copy_(glove_embeddings)"
   ]
  },
  {
   "cell_type": "code",
   "execution_count": 19,
   "metadata": {},
   "outputs": [],
   "source": [
    "# handels unknown and paddings\n",
    "unknown_index = questions.vocab.stoi[questions.unk_token]\n",
    "model.embedding.weight.data[unknown_index] = torch.zeros(embedding_dimension)\n",
    "model.embedding.weight.data[pad_index] = torch.zeros(embedding_dimension)\n"
   ]
  },
  {
   "cell_type": "code",
   "execution_count": 20,
   "metadata": {},
   "outputs": [],
   "source": [
    "optimizer = torch.optim.Adam(model.parameters())\n",
    "criterion = nn.CrossEntropyLoss().to(device)\n",
    "model = model.to(device)"
   ]
  },
  {
   "cell_type": "code",
   "execution_count": null,
   "metadata": {},
   "outputs": [],
   "source": []
  }
 ],
 "metadata": {
  "kernelspec": {
   "display_name": "Python 3",
   "language": "python",
   "name": "python3"
  },
  "language_info": {
   "codemirror_mode": {
    "name": "ipython",
    "version": 3
   },
   "file_extension": ".py",
   "mimetype": "text/x-python",
   "name": "python",
   "nbconvert_exporter": "python",
   "pygments_lexer": "ipython3",
   "version": "3.8.2"
  }
 },
 "nbformat": 4,
 "nbformat_minor": 4
}

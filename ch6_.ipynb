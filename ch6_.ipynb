{
 "cells": [
  {
   "cell_type": "code",
   "execution_count": null,
   "metadata": {},
   "outputs": [],
   "source": []
  },
  {
   "cell_type": "code",
   "execution_count": 25,
   "metadata": {
    "scrolled": true
   },
   "outputs": [],
   "source": [
    "from torchtext import data, datasets\n",
    "import torch\n",
    "import numpy  as np\n",
    "from torch import nn, optim\n",
    "import time\n",
    "import torch.nn.functional as F\n"
   ]
  },
  {
   "cell_type": "code",
   "execution_count": 10,
   "metadata": {},
   "outputs": [
    {
     "name": "stderr",
     "output_type": "stream",
     "text": [
      "/Users/FrancescaSogaro/.pyenv/versions/3.8.2/lib/python3.8/site-packages/torchtext/data/field.py:150: UserWarning: Field class will be retired soon and moved to torchtext.legacy. Please see the most recent release notes for further information.\n",
      "  warnings.warn('{} class will be retired soon and moved to torchtext.legacy. Please see the most recent release notes for further information.'.format(self.__class__.__name__), UserWarning)\n",
      "/Users/FrancescaSogaro/.pyenv/versions/3.8.2/lib/python3.8/site-packages/torchtext/data/field.py:150: UserWarning: LabelField class will be retired soon and moved to torchtext.legacy. Please see the most recent release notes for further information.\n",
      "  warnings.warn('{} class will be retired soon and moved to torchtext.legacy. Please see the most recent release notes for further information.'.format(self.__class__.__name__), UserWarning)\n"
     ]
    }
   ],
   "source": [
    "questions =  data.Field(tokenize = 'spacy', batch_first = True) # uses spacy for tokenization\n",
    "labels = data.LabelField(dtype = torch.float) # sets as floats so we can caluclate gradients."
   ]
  },
  {
   "cell_type": "code",
   "execution_count": 11,
   "metadata": {},
   "outputs": [
    {
     "name": "stderr",
     "output_type": "stream",
     "text": [
      "/Users/FrancescaSogaro/.pyenv/versions/3.8.2/lib/python3.8/site-packages/torchtext/data/example.py:78: UserWarning: Example class will be retired soon and moved to torchtext.legacy. Please see the most recent release notes for further information.\n",
      "  warnings.warn('Example class will be retired soon and moved to torchtext.legacy. Please see the most recent release notes for further information.', UserWarning)\n"
     ]
    },
    {
     "name": "stdout",
     "output_type": "stream",
     "text": [
      "3816 1636\n"
     ]
    }
   ],
   "source": [
    "train_data, _ = datasets.TREC.splits(questions, labels)\n",
    "train_data, valid_data = train_data.split()\n",
    "print(len(train_data), len(valid_data))"
   ]
  },
  {
   "cell_type": "code",
   "execution_count": 12,
   "metadata": {},
   "outputs": [
    {
     "name": "stdout",
     "output_type": "stream",
     "text": [
      "['What', 'are', 'you', 'hearing', 'when', 'you', 'put', 'a', 'seashell', 'to', 'your', 'ear', '?']\n",
      "DESC\n"
     ]
    }
   ],
   "source": [
    "# visualise sample\n",
    "ith = np.random.randint(len(train_data))\n",
    "print(train_data.examples[ith].text)\n",
    "print(train_data.examples[ith].label)"
   ]
  },
  {
   "cell_type": "code",
   "execution_count": 13,
   "metadata": {},
   "outputs": [],
   "source": [
    "questions.build_vocab(train_data, vectors=\"glove.6B.200d\", unk_init=torch.Tensor.normal_)\n",
    "labels.build_vocab(train_data)"
   ]
  },
  {
   "cell_type": "code",
   "execution_count": 14,
   "metadata": {},
   "outputs": [
    {
     "data": {
      "text/plain": [
       "tensor([[ 0.6222, -0.0975, -0.3755,  ...,  1.8149,  1.1560,  0.9560],\n",
       "        [-0.7594, -0.2627,  1.1070,  ...,  0.4254, -1.6362, -0.5985],\n",
       "        [ 0.3911,  0.4019, -0.1505,  ..., -0.0348,  0.0798,  0.5031],\n",
       "        ...,\n",
       "        [ 0.6188, -0.0304, -0.5277,  ...,  0.0882, -0.2951, -0.2156],\n",
       "        [ 0.5741, -0.4343, -0.1119,  ...,  0.7629,  0.3831, -0.1570],\n",
       "        [-0.2425,  0.6194,  1.3442,  ...,  0.4479,  1.3322, -0.3131]])"
      ]
     },
     "execution_count": 14,
     "metadata": {},
     "output_type": "execute_result"
    }
   ],
   "source": [
    "questions.vocab.vectors"
   ]
  },
  {
   "cell_type": "code",
   "execution_count": 15,
   "metadata": {},
   "outputs": [
    {
     "name": "stderr",
     "output_type": "stream",
     "text": [
      "/Users/FrancescaSogaro/.pyenv/versions/3.8.2/lib/python3.8/site-packages/torchtext/data/iterator.py:48: UserWarning: BucketIterator class will be retired soon and moved to torchtext.legacy. Please see the most recent release notes for further information.\n",
      "  warnings.warn('{} class will be retired soon and moved to torchtext.legacy. Please see the most recent release notes for further information.'.format(self.__class__.__name__), UserWarning)\n"
     ]
    }
   ],
   "source": [
    "# create data iterators\n",
    "device = torch.device('cuda' if torch.cuda.is_available() else 'cpu')\n",
    "train_iterator, valid_iterator = data.BucketIterator.splits(\n",
    "    (train_data, valid_data), \n",
    "    batch_size = 64,\n",
    "    device = device\n",
    ")\n"
   ]
  },
  {
   "cell_type": "code",
   "execution_count": 27,
   "metadata": {},
   "outputs": [],
   "source": [
    "class CNN(nn.Module):\n",
    "    def __init__(self,\n",
    "                 vocab_size, \n",
    "                 embedding_dim, \n",
    "                 n_filters, \n",
    "                 filter_sizes, \n",
    "                 output_dim, \n",
    "                 dropout, \n",
    "                 pad_idx):\n",
    "        super().__init__()\n",
    "        self.embedding = nn.Embedding(num_embeddings=vocab_size,\n",
    "                                      embedding_dim=embedding_dim, \n",
    "                                      padding_idx=pad_idx) # padding_index ->index of embeddign used to pad to same length, define later manually\n",
    "        self.convs = nn.ModuleList( # define a list of convs layers\n",
    "            [nn.Conv2d(in_channels=1, # input text does not have channels\n",
    "                       out_channels=n_filters, # how many conv filters with same shape to train (same for all filter_sizes) \n",
    "                       kernel_size=(fs, embedding_dim)\n",
    "                      ) \n",
    "             for fs in filter_sizes]\n",
    "        )\n",
    "        \n",
    "        self.fc = nn.Linear(len(filter_sizes)*n_filters, output_dim)\n",
    "        self.dropout= nn.Dropout(dropout)\n",
    "        \n",
    "        \n",
    "    def forward(self, text):\n",
    "        emb = self.embedding(text).unsqueeze(1)\n",
    "        conved = [F.relu(conv2d(emb)).squeeze(3) for conv2d in self.convs]\n",
    "        pooled = [F.max_pool1d(c , c.shape[2]).squeeze(2) for c in conved]\n",
    "        concat = self.dropout(torch.cat(pooled, dim=1))\n",
    "        return self.fc(concat)\n",
    "    "
   ]
  },
  {
   "cell_type": "code",
   "execution_count": 28,
   "metadata": {},
   "outputs": [],
   "source": [
    "input_dimension = len(questions.vocab)\n",
    "output_dimension = 6\n",
    "embedding_dimension = 200\n",
    "pad_index = questions.vocab.stoi[questions.pad_token]\n",
    "number_of_filters = 100\n",
    "filter_sizes = [2, 3, 4]\n",
    "dropout_pc = 0.5\n",
    "\n",
    "model = CNN(vocab_size=input_dimension, \n",
    "                 embedding_dim = embedding_dimension, \n",
    "                 n_filters = number_of_filters, \n",
    "                 filter_sizes = filter_sizes, \n",
    "                 output_dim = output_dimension, \n",
    "                 dropout=dropout_pc, \n",
    "                 pad_idx=pad_index)"
   ]
  },
  {
   "cell_type": "code",
   "execution_count": 29,
   "metadata": {},
   "outputs": [
    {
     "data": {
      "text/plain": [
       "tensor([[ 0.6222, -0.0975, -0.3755,  ...,  1.8149,  1.1560,  0.9560],\n",
       "        [-0.7594, -0.2627,  1.1070,  ...,  0.4254, -1.6362, -0.5985],\n",
       "        [ 0.3911,  0.4019, -0.1505,  ..., -0.0348,  0.0798,  0.5031],\n",
       "        ...,\n",
       "        [ 0.6188, -0.0304, -0.5277,  ...,  0.0882, -0.2951, -0.2156],\n",
       "        [ 0.5741, -0.4343, -0.1119,  ...,  0.7629,  0.3831, -0.1570],\n",
       "        [-0.2425,  0.6194,  1.3442,  ...,  0.4479,  1.3322, -0.3131]])"
      ]
     },
     "execution_count": 29,
     "metadata": {},
     "output_type": "execute_result"
    }
   ],
   "source": [
    "# load glove as embeddings  for tokens\n",
    "glove_embeddings = questions.vocab.vectors\n",
    "model.embedding.weight.data.copy_(glove_embeddings)"
   ]
  },
  {
   "cell_type": "code",
   "execution_count": 30,
   "metadata": {},
   "outputs": [],
   "source": [
    "# handels unknown and paddings\n",
    "unknown_index = questions.vocab.stoi[questions.unk_token]\n",
    "model.embedding.weight.data[unknown_index] = torch.zeros(embedding_dimension)\n",
    "model.embedding.weight.data[pad_index] = torch.zeros(embedding_dimension)\n"
   ]
  },
  {
   "cell_type": "code",
   "execution_count": 31,
   "metadata": {},
   "outputs": [],
   "source": [
    "optimizer = torch.optim.Adam(model.parameters())\n",
    "criterion = nn.CrossEntropyLoss().to(device)\n",
    "model = model.to(device)"
   ]
  },
  {
   "cell_type": "code",
   "execution_count": 32,
   "metadata": {},
   "outputs": [],
   "source": [
    "# trainig the CNN\n",
    "def multi_accuracy(preds, y):\n",
    "    pred = torch.max(preds, 1).indices\n",
    "    correct = (pred == y).float()\n",
    "    acc = correct.sum() / len(correct)\n",
    "    return acc"
   ]
  },
  {
   "cell_type": "code",
   "execution_count": 33,
   "metadata": {},
   "outputs": [],
   "source": [
    "def train(model, iterator, optimizer, criterion):\n",
    "    epoch_loss = 0\n",
    "    epoch_acc = 0\n",
    "    model.train()\n",
    "    \n",
    "    for batch in iterator:\n",
    "        optimizer.zero_grad()\n",
    "        preds = model(batch.text).squeeze(1)\n",
    "        loss = criterion(preds, batch.label.long())\n",
    "        acc = multi_accuracy(preds, batch.label)\n",
    "        loss.backward()\n",
    "        optimizer.step()\n",
    "        \n",
    "        epoch_loss += loss.item()\n",
    "        epoch_acc += acc.item()\n",
    "        \n",
    "    total_epoch_loss = epoch_loss/len(iterator)\n",
    "    total_epoch_accuracy = epoch_acc/len(iterator)\n",
    "        \n",
    "    return total_epoch_loss, total_epoch_accuracy"
   ]
  },
  {
   "cell_type": "code",
   "execution_count": 38,
   "metadata": {},
   "outputs": [],
   "source": [
    "def model_eval(model, iterator, criterion):\n",
    "    epoch_loss = 0\n",
    "    epoch_acc = 0\n",
    "    model.eval()\n",
    "    with torch.no_grad():\n",
    "        for batch in iterator:\n",
    "            preds = model(batch.text).squeeze(1)\n",
    "            loss = criterion(preds, batch.label.long())\n",
    "            acc = multi_accuracy(preds, batch.label)\n",
    "\n",
    "            epoch_loss += loss.item()\n",
    "            epoch_acc += acc.item()\n",
    "        \n",
    "    total_epoch_loss = epoch_loss/len(iterator)\n",
    "    total_epoch_accuracy = epoch_acc/len(iterator)\n",
    "        \n",
    "    return total_epoch_loss, total_epoch_accuracy"
   ]
  },
  {
   "cell_type": "code",
   "execution_count": 40,
   "metadata": {},
   "outputs": [
    {
     "name": "stdout",
     "output_type": "stream",
     "text": [
      "epoch 0/10, time 4\n",
      "Train loss: 0.17327417396008968 train acc: 0.9547395835320155\n",
      "Valid loss: 0.47200516210152554 Valid acc: 0.8239182692307693\n",
      "epoch 1/10, time 4\n",
      "Train loss: 0.12371736156443755 train acc: 0.9692708333333333\n",
      "Valid loss: 0.4684221727343706 Valid acc: 0.8267895304239713\n",
      "epoch 2/10, time 4\n",
      "Train loss: 0.09398410860449076 train acc: 0.9802083333333333\n",
      "Valid loss: 0.4662626769680243 Valid acc: 0.8350694454633273\n",
      "epoch 3/10, time 4\n",
      "Train loss: 0.06255863606929779 train acc: 0.9893229166666667\n",
      "Valid loss: 0.46698962037379926 Valid acc: 0.8361378197486584\n",
      "epoch 4/10, time 4\n",
      "Train loss: 0.04782793417883416 train acc: 0.9908854166666666\n",
      "Valid loss: 0.47145902709319043 Valid acc: 0.837606838116279\n",
      "epoch 5/10, time 4\n",
      "Train loss: 0.038404157664626834 train acc: 0.99375\n",
      "Valid loss: 0.4744143503216597 Valid acc: 0.8412126073470483\n",
      "epoch 6/10, time 4\n",
      "Train loss: 0.028709084431951245 train acc: 0.99609375\n",
      "Valid loss: 0.48557186413269776 Valid acc: 0.838074253155635\n",
      "epoch 7/10, time 4\n",
      "Train loss: 0.022583800926804544 train acc: 0.996875\n",
      "Valid loss: 0.48371048672841144 Valid acc: 0.839610042480322\n",
      "epoch 8/10, time 4\n",
      "Train loss: 0.018290859732466438 train acc: 0.9979166666666667\n",
      "Valid loss: 0.5030933572695806 Valid acc: 0.8397435889794276\n",
      "epoch 9/10, time 5\n",
      "Train loss: 0.017148990913604698 train acc: 0.9961979170640309\n",
      "Valid loss: 0.5054759606719017 Valid acc: 0.845753204364043\n"
     ]
    }
   ],
   "source": [
    "epochs = 10\n",
    "lowest_validation_loss = float('inf')\n",
    "\n",
    "for epoch in range(epochs):\n",
    "    start_time = time.time()\n",
    "    train_loss, train_acc = train(model, train_iterator, optimizer, criterion)\n",
    "    valid_loss, valid_acc = model_eval(model, valid_iterator, criterion)\n",
    "    end_time = time.time()\n",
    "    \n",
    "    if valid_loss < lowest_validation_loss:\n",
    "        lowest_validation_loss = valid_loss\n",
    "        torch.save(model.state_dict(), 'cnn_model.pt')\n",
    "        \n",
    "    print(f\"epoch {epoch}/{epochs}, time {int(end_time-start_time)}s\")\n",
    "    print(f\"Train loss: {train_loss} train acc: {train_acc}\")\n",
    "    print(f\"Valid loss: {valid_loss} Valid acc: {valid_acc}\")"
   ]
  },
  {
   "cell_type": "code",
   "execution_count": null,
   "metadata": {},
   "outputs": [],
   "source": []
  },
  {
   "cell_type": "code",
   "execution_count": null,
   "metadata": {},
   "outputs": [],
   "source": []
  }
 ],
 "metadata": {
  "kernelspec": {
   "display_name": "Python 3",
   "language": "python",
   "name": "python3"
  },
  "language_info": {
   "codemirror_mode": {
    "name": "ipython",
    "version": 3
   },
   "file_extension": ".py",
   "mimetype": "text/x-python",
   "name": "python",
   "nbconvert_exporter": "python",
   "pygments_lexer": "ipython3",
   "version": "3.8.2"
  }
 },
 "nbformat": 4,
 "nbformat_minor": 4
}

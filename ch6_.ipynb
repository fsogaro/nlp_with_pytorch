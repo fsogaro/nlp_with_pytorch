{
 "cells": [
  {
   "cell_type": "code",
   "execution_count": null,
   "metadata": {},
   "outputs": [],
   "source": []
  },
  {
   "cell_type": "code",
   "execution_count": 23,
   "metadata": {
    "scrolled": true
   },
   "outputs": [],
   "source": [
    "from torchtext import data, datasets\n",
    "import torch\n",
    "import numpy  as np\n",
    "from torch import nn, optim\n",
    "import time\n",
    "import torch.nn.functional as F\n",
    "\n",
    "import spacy\n",
    "nlp = spacy.load('en')"
   ]
  },
  {
   "cell_type": "code",
   "execution_count": 2,
   "metadata": {},
   "outputs": [
    {
     "name": "stderr",
     "output_type": "stream",
     "text": [
      "/Users/FrancescaSogaro/.pyenv/versions/3.8.2/lib/python3.8/site-packages/torchtext/data/field.py:150: UserWarning: Field class will be retired soon and moved to torchtext.legacy. Please see the most recent release notes for further information.\n",
      "  warnings.warn('{} class will be retired soon and moved to torchtext.legacy. Please see the most recent release notes for further information.'.format(self.__class__.__name__), UserWarning)\n",
      "/Users/FrancescaSogaro/.pyenv/versions/3.8.2/lib/python3.8/site-packages/torchtext/data/field.py:150: UserWarning: LabelField class will be retired soon and moved to torchtext.legacy. Please see the most recent release notes for further information.\n",
      "  warnings.warn('{} class will be retired soon and moved to torchtext.legacy. Please see the most recent release notes for further information.'.format(self.__class__.__name__), UserWarning)\n"
     ]
    }
   ],
   "source": [
    "questions =  data.Field(tokenize = 'spacy', batch_first = True) # uses spacy for tokenization\n",
    "labels = data.LabelField(dtype = torch.float) # sets as floats so we can caluclate gradients."
   ]
  },
  {
   "cell_type": "code",
   "execution_count": 3,
   "metadata": {},
   "outputs": [
    {
     "name": "stderr",
     "output_type": "stream",
     "text": [
      "/Users/FrancescaSogaro/.pyenv/versions/3.8.2/lib/python3.8/site-packages/torchtext/data/example.py:78: UserWarning: Example class will be retired soon and moved to torchtext.legacy. Please see the most recent release notes for further information.\n",
      "  warnings.warn('Example class will be retired soon and moved to torchtext.legacy. Please see the most recent release notes for further information.', UserWarning)\n"
     ]
    },
    {
     "name": "stdout",
     "output_type": "stream",
     "text": [
      "3816 1636\n"
     ]
    }
   ],
   "source": [
    "train_data, _ = datasets.TREC.splits(questions, labels)\n",
    "train_data, valid_data = train_data.split()\n",
    "print(len(train_data), len(valid_data))"
   ]
  },
  {
   "cell_type": "code",
   "execution_count": 4,
   "metadata": {},
   "outputs": [
    {
     "name": "stdout",
     "output_type": "stream",
     "text": [
      "['What', 'kind', 'of', 'rocket', 'launched', 'the', 'Surveyor', 'spacecraft', '?']\n",
      "ENTY\n"
     ]
    }
   ],
   "source": [
    "# visualise sample\n",
    "ith = np.random.randint(len(train_data))\n",
    "print(train_data.examples[ith].text)\n",
    "print(train_data.examples[ith].label)"
   ]
  },
  {
   "cell_type": "code",
   "execution_count": 5,
   "metadata": {},
   "outputs": [],
   "source": [
    "questions.build_vocab(train_data, vectors=\"glove.6B.200d\", unk_init=torch.Tensor.normal_)\n",
    "labels.build_vocab(train_data)"
   ]
  },
  {
   "cell_type": "code",
   "execution_count": 6,
   "metadata": {},
   "outputs": [
    {
     "data": {
      "text/plain": [
       "tensor([[-0.4890, -1.9077,  0.0959,  ...,  1.2058, -0.5414,  2.6896],\n",
       "        [ 0.5859, -1.7986,  0.0973,  ...,  0.4793,  0.5992,  0.3551],\n",
       "        [ 0.3911,  0.4019, -0.1505,  ..., -0.0348,  0.0798,  0.5031],\n",
       "        ...,\n",
       "        [ 0.2698, -0.3513,  0.0998,  ...,  0.1792,  0.0125, -0.0725],\n",
       "        [ 0.1940, -0.4843, -0.7601,  ...,  0.3863, -0.6567, -0.0112],\n",
       "        [ 0.5741, -0.4343, -0.1119,  ...,  0.7629,  0.3831, -0.1570]])"
      ]
     },
     "execution_count": 6,
     "metadata": {},
     "output_type": "execute_result"
    }
   ],
   "source": [
    "questions.vocab.vectors"
   ]
  },
  {
   "cell_type": "code",
   "execution_count": 7,
   "metadata": {},
   "outputs": [
    {
     "name": "stderr",
     "output_type": "stream",
     "text": [
      "/Users/FrancescaSogaro/.pyenv/versions/3.8.2/lib/python3.8/site-packages/torchtext/data/iterator.py:48: UserWarning: BucketIterator class will be retired soon and moved to torchtext.legacy. Please see the most recent release notes for further information.\n",
      "  warnings.warn('{} class will be retired soon and moved to torchtext.legacy. Please see the most recent release notes for further information.'.format(self.__class__.__name__), UserWarning)\n"
     ]
    }
   ],
   "source": [
    "# create data iterators\n",
    "device = torch.device('cuda' if torch.cuda.is_available() else 'cpu')\n",
    "train_iterator, valid_iterator = data.BucketIterator.splits(\n",
    "    (train_data, valid_data), \n",
    "    batch_size = 64,\n",
    "    device = device\n",
    ")\n"
   ]
  },
  {
   "cell_type": "code",
   "execution_count": 8,
   "metadata": {},
   "outputs": [],
   "source": [
    "class CNN(nn.Module):\n",
    "    def __init__(self,\n",
    "                 vocab_size, \n",
    "                 embedding_dim, \n",
    "                 n_filters, \n",
    "                 filter_sizes, \n",
    "                 output_dim, \n",
    "                 dropout, \n",
    "                 pad_idx):\n",
    "        super().__init__()\n",
    "        self.embedding = nn.Embedding(num_embeddings=vocab_size,\n",
    "                                      embedding_dim=embedding_dim, \n",
    "                                      padding_idx=pad_idx) # padding_index ->index of embeddign used to pad to same length, define later manually\n",
    "        self.convs = nn.ModuleList( # define a list of convs layers\n",
    "            [nn.Conv2d(in_channels=1, # input text does not have channels\n",
    "                       out_channels=n_filters, # how many conv filters with same shape to train (same for all filter_sizes) \n",
    "                       kernel_size=(fs, embedding_dim)\n",
    "                      ) \n",
    "             for fs in filter_sizes]\n",
    "        )\n",
    "        \n",
    "        self.fc = nn.Linear(len(filter_sizes)*n_filters, output_dim)\n",
    "        self.dropout= nn.Dropout(dropout)\n",
    "        \n",
    "        \n",
    "    def forward(self, text):\n",
    "        emb = self.embedding(text).unsqueeze(1)\n",
    "        conved = [F.relu(conv2d(emb)).squeeze(3) for conv2d in self.convs]\n",
    "        pooled = [F.max_pool1d(c , c.shape[2]).squeeze(2) for c in conved]\n",
    "        concat = self.dropout(torch.cat(pooled, dim=1))\n",
    "        return self.fc(concat)\n",
    "    "
   ]
  },
  {
   "cell_type": "code",
   "execution_count": 9,
   "metadata": {},
   "outputs": [],
   "source": [
    "input_dimension = len(questions.vocab)\n",
    "output_dimension = 6\n",
    "embedding_dimension = 200\n",
    "pad_index = questions.vocab.stoi[questions.pad_token]\n",
    "number_of_filters = 100\n",
    "filter_sizes = [2, 3, 4]\n",
    "dropout_pc = 0.5\n",
    "\n",
    "model = CNN(vocab_size=input_dimension, \n",
    "                 embedding_dim = embedding_dimension, \n",
    "                 n_filters = number_of_filters, \n",
    "                 filter_sizes = filter_sizes, \n",
    "                 output_dim = output_dimension, \n",
    "                 dropout=dropout_pc, \n",
    "                 pad_idx=pad_index)"
   ]
  },
  {
   "cell_type": "code",
   "execution_count": 10,
   "metadata": {},
   "outputs": [
    {
     "data": {
      "text/plain": [
       "tensor([[-0.4890, -1.9077,  0.0959,  ...,  1.2058, -0.5414,  2.6896],\n",
       "        [ 0.5859, -1.7986,  0.0973,  ...,  0.4793,  0.5992,  0.3551],\n",
       "        [ 0.3911,  0.4019, -0.1505,  ..., -0.0348,  0.0798,  0.5031],\n",
       "        ...,\n",
       "        [ 0.2698, -0.3513,  0.0998,  ...,  0.1792,  0.0125, -0.0725],\n",
       "        [ 0.1940, -0.4843, -0.7601,  ...,  0.3863, -0.6567, -0.0112],\n",
       "        [ 0.5741, -0.4343, -0.1119,  ...,  0.7629,  0.3831, -0.1570]])"
      ]
     },
     "execution_count": 10,
     "metadata": {},
     "output_type": "execute_result"
    }
   ],
   "source": [
    "# load glove as embeddings  for tokens\n",
    "glove_embeddings = questions.vocab.vectors\n",
    "model.embedding.weight.data.copy_(glove_embeddings)"
   ]
  },
  {
   "cell_type": "code",
   "execution_count": 11,
   "metadata": {},
   "outputs": [],
   "source": [
    "# handels unknown and paddings\n",
    "unknown_index = questions.vocab.stoi[questions.unk_token]\n",
    "model.embedding.weight.data[unknown_index] = torch.zeros(embedding_dimension)\n",
    "model.embedding.weight.data[pad_index] = torch.zeros(embedding_dimension)\n"
   ]
  },
  {
   "cell_type": "code",
   "execution_count": 12,
   "metadata": {},
   "outputs": [],
   "source": [
    "optimizer = torch.optim.Adam(model.parameters())\n",
    "criterion = nn.CrossEntropyLoss().to(device)\n",
    "model = model.to(device)"
   ]
  },
  {
   "cell_type": "code",
   "execution_count": 13,
   "metadata": {},
   "outputs": [],
   "source": [
    "# trainig the CNN\n",
    "def multi_accuracy(preds, y):\n",
    "    pred = torch.max(preds, 1).indices\n",
    "    correct = (pred == y).float()\n",
    "    acc = correct.sum() / len(correct)\n",
    "    return acc"
   ]
  },
  {
   "cell_type": "code",
   "execution_count": 14,
   "metadata": {},
   "outputs": [],
   "source": [
    "def train(model, iterator, optimizer, criterion):\n",
    "    epoch_loss = 0\n",
    "    epoch_acc = 0\n",
    "    model.train()\n",
    "    \n",
    "    for batch in iterator:\n",
    "        optimizer.zero_grad()\n",
    "        preds = model(batch.text).squeeze(1)\n",
    "        loss = criterion(preds, batch.label.long())\n",
    "        acc = multi_accuracy(preds, batch.label)\n",
    "        loss.backward()\n",
    "        optimizer.step()\n",
    "        \n",
    "        epoch_loss += loss.item()\n",
    "        epoch_acc += acc.item()\n",
    "        \n",
    "    total_epoch_loss = epoch_loss/len(iterator)\n",
    "    total_epoch_accuracy = epoch_acc/len(iterator)\n",
    "        \n",
    "    return total_epoch_loss, total_epoch_accuracy"
   ]
  },
  {
   "cell_type": "code",
   "execution_count": 15,
   "metadata": {},
   "outputs": [],
   "source": [
    "def model_eval(model, iterator, criterion):\n",
    "    epoch_loss = 0\n",
    "    epoch_acc = 0\n",
    "    model.eval()\n",
    "    with torch.no_grad():\n",
    "        for batch in iterator:\n",
    "            preds = model(batch.text).squeeze(1)\n",
    "            loss = criterion(preds, batch.label.long())\n",
    "            acc = multi_accuracy(preds, batch.label)\n",
    "\n",
    "            epoch_loss += loss.item()\n",
    "            epoch_acc += acc.item()\n",
    "        \n",
    "    total_epoch_loss = epoch_loss/len(iterator)\n",
    "    total_epoch_accuracy = epoch_acc/len(iterator)\n",
    "        \n",
    "    return total_epoch_loss, total_epoch_accuracy"
   ]
  },
  {
   "cell_type": "code",
   "execution_count": 16,
   "metadata": {},
   "outputs": [
    {
     "name": "stderr",
     "output_type": "stream",
     "text": [
      "/Users/FrancescaSogaro/.pyenv/versions/3.8.2/lib/python3.8/site-packages/torchtext/data/batch.py:23: UserWarning: Batch class will be retired soon and moved to torchtext.legacy. Please see the most recent release notes for further information.\n",
      "  warnings.warn('{} class will be retired soon and moved to torchtext.legacy. Please see the most recent release notes for further information.'.format(self.__class__.__name__), UserWarning)\n"
     ]
    },
    {
     "name": "stdout",
     "output_type": "stream",
     "text": [
      "epoch 0/10, time 4s\n",
      "Train loss: 1.1837895661592484 train acc: 0.529583332935969\n",
      "Valid loss: 0.9222323321379148 Valid acc: 0.6601228622289804\n",
      "epoch 1/10, time 4s\n",
      "Train loss: 0.7438710441191991 train acc: 0.7366666664679845\n",
      "Valid loss: 0.7209972670445075 Valid acc: 0.7563434839248657\n",
      "epoch 2/10, time 4s\n",
      "Train loss: 0.4973691125710805 train acc: 0.8449999998013179\n",
      "Valid loss: 0.6104290668780987 Valid acc: 0.7863915608479426\n",
      "epoch 3/10, time 4s\n",
      "Train loss: 0.34622849176327386 train acc: 0.8948437501986821\n",
      "Valid loss: 0.5475277935083096 Valid acc: 0.8157051274409661\n",
      "epoch 4/10, time 4s\n",
      "Train loss: 0.22761213096479574 train acc: 0.9338541666666667\n",
      "Valid loss: 0.5100480982890496 Valid acc: 0.8327991458085867\n",
      "epoch 5/10, time 4s\n",
      "Train loss: 0.16118539993961653 train acc: 0.9573958337306976\n",
      "Valid loss: 0.4948240684775206 Valid acc: 0.8321981842701252\n",
      "epoch 6/10, time 4s\n",
      "Train loss: 0.10206299560765425 train acc: 0.9793749998013178\n",
      "Valid loss: 0.48593093110964847 Valid acc: 0.8255876073470483\n",
      "epoch 7/10, time 4s\n",
      "Train loss: 0.07674025570352873 train acc: 0.984375\n",
      "Valid loss: 0.47624607900014293 Valid acc: 0.8394097227316636\n",
      "epoch 8/10, time 4s\n",
      "Train loss: 0.06067127669230103 train acc: 0.9882291664679845\n",
      "Valid loss: 0.48096593813254285 Valid acc: 0.8404780993094811\n",
      "epoch 9/10, time 4s\n",
      "Train loss: 0.03868933667739232 train acc: 0.99609375\n",
      "Valid loss: 0.5062667727470398 Valid acc: 0.8410790608479426\n"
     ]
    }
   ],
   "source": [
    "epochs = 10\n",
    "lowest_validation_loss = float('inf')\n",
    "\n",
    "for epoch in range(epochs):\n",
    "    start_time = time.time()\n",
    "    train_loss, train_acc = train(model, train_iterator, optimizer, criterion)\n",
    "    valid_loss, valid_acc = model_eval(model, valid_iterator, criterion)\n",
    "    end_time = time.time()\n",
    "    \n",
    "    if valid_loss < lowest_validation_loss:\n",
    "        lowest_validation_loss = valid_loss\n",
    "        torch.save(model.state_dict(), 'cnn_model.pt')\n",
    "        \n",
    "    print(f\"epoch {epoch}/{epochs}, time {int(end_time-start_time)}s\")\n",
    "    print(f\"Train loss: {train_loss} train acc: {train_acc}\")\n",
    "    print(f\"Valid loss: {valid_loss} Valid acc: {valid_acc}\")"
   ]
  },
  {
   "cell_type": "code",
   "execution_count": 17,
   "metadata": {},
   "outputs": [],
   "source": [
    "# predictions"
   ]
  },
  {
   "cell_type": "code",
   "execution_count": 18,
   "metadata": {
    "scrolled": true
   },
   "outputs": [
    {
     "data": {
      "text/plain": [
       "<All keys matched successfully>"
      ]
     },
     "execution_count": 18,
     "metadata": {},
     "output_type": "execute_result"
    }
   ],
   "source": [
    "model.load_state_dict(torch.load(\"cnn_model.pt\"))\n"
   ]
  },
  {
   "cell_type": "code",
   "execution_count": 26,
   "metadata": {},
   "outputs": [],
   "source": [
    "def predict_class(model, sentence, min_len=5):\n",
    "    tokenized = [tok.text \n",
    "                 for tok in nlp.tokenizer(sentence)]\n",
    "    if len(tokenized) < min_len:\n",
    "        tokenized = ['<pad>'] * (min_len - len(tokenized))\n",
    "    indexed = [questions.vocab.stoi[t] for t in tokenized]\n",
    "    tensor = torch.LongTensor(indexed).to(device)\n",
    "    tensor = tensor.unsqueeze(0)\n",
    "    \n",
    "    model.eval()\n",
    "    prediction = torch.max(model(tensor), 1).indices.item()\n",
    "    pred_index = labels.vocab.itos[prediction]\n",
    "    \n",
    "    return pred_index\n",
    "    "
   ]
  },
  {
   "cell_type": "code",
   "execution_count": 28,
   "metadata": {},
   "outputs": [
    {
     "data": {
      "text/plain": [
       "'NUM'"
      ]
     },
     "execution_count": 28,
     "metadata": {},
     "output_type": "execute_result"
    }
   ],
   "source": [
    "pred_class = predict_class(model, \"How many road must a man walk down?\")\n",
    "pred_class"
   ]
  },
  {
   "cell_type": "code",
   "execution_count": null,
   "metadata": {},
   "outputs": [],
   "source": []
  }
 ],
 "metadata": {
  "kernelspec": {
   "display_name": "Python 3",
   "language": "python",
   "name": "python3"
  },
  "language_info": {
   "codemirror_mode": {
    "name": "ipython",
    "version": 3
   },
   "file_extension": ".py",
   "mimetype": "text/x-python",
   "name": "python",
   "nbconvert_exporter": "python",
   "pygments_lexer": "ipython3",
   "version": "3.8.2"
  }
 },
 "nbformat": 4,
 "nbformat_minor": 4
}

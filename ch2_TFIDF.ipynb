{
 "cells": [
  {
   "cell_type": "code",
   "execution_count": 45,
   "metadata": {},
   "outputs": [],
   "source": [
    "import nltk\n",
    "import pandas as pd\n",
    "import numpy as np"
   ]
  },
  {
   "cell_type": "code",
   "execution_count": 6,
   "metadata": {},
   "outputs": [
    {
     "name": "stderr",
     "output_type": "stream",
     "text": [
      "[nltk_data] Downloading package gutenberg to\n",
      "[nltk_data]     /Users/FrancescaSogaro/nltk_data...\n",
      "[nltk_data]   Unzipping corpora/gutenberg.zip.\n"
     ]
    },
    {
     "data": {
      "text/plain": [
       "True"
      ]
     },
     "execution_count": 6,
     "metadata": {},
     "output_type": "execute_result"
    }
   ],
   "source": [
    "# nltk.download('gutenberg')"
   ]
  },
  {
   "cell_type": "code",
   "execution_count": 23,
   "metadata": {},
   "outputs": [],
   "source": [
    "emma = nltk.corpus.gutenberg.sents('austen-emma.txt')"
   ]
  },
  {
   "cell_type": "code",
   "execution_count": null,
   "metadata": {},
   "outputs": [],
   "source": []
  },
  {
   "cell_type": "code",
   "execution_count": 72,
   "metadata": {},
   "outputs": [
    {
     "data": {
      "text/plain": [
       "['She',\n",
       " 'had',\n",
       " 'many',\n",
       " 'acquaintance',\n",
       " 'in',\n",
       " 'the',\n",
       " 'place',\n",
       " ',',\n",
       " 'for',\n",
       " 'her',\n",
       " 'father',\n",
       " 'was',\n",
       " 'universally',\n",
       " 'civil',\n",
       " ',',\n",
       " 'but',\n",
       " 'not',\n",
       " 'one',\n",
       " 'among',\n",
       " 'them',\n",
       " 'who',\n",
       " 'could',\n",
       " 'be',\n",
       " 'accepted',\n",
       " 'in',\n",
       " 'lieu',\n",
       " 'of',\n",
       " 'Miss',\n",
       " 'Taylor',\n",
       " 'for',\n",
       " 'even',\n",
       " 'half',\n",
       " 'a',\n",
       " 'day',\n",
       " '.']"
      ]
     },
     "execution_count": 72,
     "metadata": {},
     "output_type": "execute_result"
    }
   ],
   "source": [
    "emma[30]"
   ]
  },
  {
   "cell_type": "code",
   "execution_count": 39,
   "metadata": {},
   "outputs": [],
   "source": [
    "emma_sentences = []\n",
    "emma_word_set = []\n",
    "for sentence in emma:\n",
    "    emma_sentences.append([word.lower() for word in sentence if word.isalpha()])\n",
    "    for word in sentence:\n",
    "        if word.isalpha():\n",
    "            emma_word_set.append(word.lower())\n",
    "emma_word_set = set(emma_word_set)\n",
    "            \n"
   ]
  },
  {
   "cell_type": "code",
   "execution_count": null,
   "metadata": {},
   "outputs": [],
   "source": []
  },
  {
   "cell_type": "code",
   "execution_count": 42,
   "metadata": {},
   "outputs": [
    {
     "data": {
      "text/plain": [
       "0.024390243902439025"
      ]
     },
     "execution_count": 42,
     "metadata": {},
     "output_type": "execute_result"
    }
   ],
   "source": [
    "def termfreq(document, word):\n",
    "    doc_length = len(document)\n",
    "    occurances = len([w for w in document if w==word])\n",
    "    tf =  occurances / doc_length\n",
    "    return tf\n",
    "\n",
    "termfreq(emma_sentences[5], 'ago')"
   ]
  },
  {
   "cell_type": "code",
   "execution_count": 43,
   "metadata": {},
   "outputs": [],
   "source": [
    "def build_DF_dict(corpus, words):\n",
    "    \n",
    "    DF_dict = {}\n",
    "    for word in words:\n",
    "        corpus_length = len(corpus)\n",
    "        occurrances = len([1 for doc in corpus if word in doc])\n",
    "        DF_dict[word] = occurrances / corpus_length\n",
    "        \n",
    "    return DF_dict\n",
    "\n",
    "\n",
    "DF_dict =  build_DF_dict(emma_sentences, emma_word_set)"
   ]
  },
  {
   "cell_type": "code",
   "execution_count": null,
   "metadata": {},
   "outputs": [],
   "source": []
  },
  {
   "cell_type": "code",
   "execution_count": 79,
   "metadata": {},
   "outputs": [],
   "source": [
    "def inverse_doc_freq(word, df_dict):\n",
    "    \n",
    "    N = len(emma_sentences)\n",
    "    try :\n",
    "        df = df_dict[word] + 1\n",
    "    except : \n",
    "        df = 1\n",
    "    return np.log(N/df)\n",
    "    "
   ]
  },
  {
   "cell_type": "code",
   "execution_count": 80,
   "metadata": {},
   "outputs": [
    {
     "data": {
      "text/plain": [
       "8.951586683275364"
      ]
     },
     "execution_count": 80,
     "metadata": {},
     "output_type": "execute_result"
    }
   ],
   "source": [
    "idf(\"ago\", DF_dict)"
   ]
  },
  {
   "cell_type": "code",
   "execution_count": 81,
   "metadata": {},
   "outputs": [],
   "source": [
    "def TFIDF(doc, word):\n",
    "    tf = termfreq(doc, word)\n",
    "    print(tf)\n",
    "    idf = inverse_doc_freq(word, DF_dict)\n",
    "    print(idf)\n",
    "    return tf * idf\n"
   ]
  },
  {
   "cell_type": "code",
   "execution_count": 82,
   "metadata": {},
   "outputs": [
    {
     "name": "stdout",
     "output_type": "stream",
     "text": [
      "0.0\n",
      "8.945056152351084\n"
     ]
    },
    {
     "data": {
      "text/plain": [
       "0.0"
      ]
     },
     "execution_count": 82,
     "metadata": {},
     "output_type": "execute_result"
    }
   ],
   "source": [
    "TFIDF(emma_sentences[30], 'once')"
   ]
  },
  {
   "cell_type": "code",
   "execution_count": null,
   "metadata": {},
   "outputs": [],
   "source": []
  }
 ],
 "metadata": {
  "kernelspec": {
   "display_name": "Python 3",
   "language": "python",
   "name": "python3"
  },
  "language_info": {
   "codemirror_mode": {
    "name": "ipython",
    "version": 3
   },
   "file_extension": ".py",
   "mimetype": "text/x-python",
   "name": "python",
   "nbconvert_exporter": "python",
   "pygments_lexer": "ipython3",
   "version": "3.8.2"
  }
 },
 "nbformat": 4,
 "nbformat_minor": 4
}

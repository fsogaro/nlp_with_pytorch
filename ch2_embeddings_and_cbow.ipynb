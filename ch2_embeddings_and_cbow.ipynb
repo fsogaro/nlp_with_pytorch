{
 "cells": [
  {
   "cell_type": "code",
   "execution_count": null,
   "metadata": {},
   "outputs": [],
   "source": [
    "# explore glove word emebddings"
   ]
  },
  {
   "cell_type": "code",
   "execution_count": 1,
   "metadata": {},
   "outputs": [],
   "source": [
    "import pandas as pd\n",
    "import numpy as np\n",
    "from torch import nn, optim\n",
    "import torch\n",
    "\n",
    "from sklearn.metrics.pairwise import cosine_similarity"
   ]
  },
  {
   "cell_type": "code",
   "execution_count": null,
   "metadata": {},
   "outputs": [],
   "source": [
    "# function to load glove vectors from file\n",
    "def load_glove(file_path):\n",
    "    file_object  = open(file_path, \"r\") \n",
    "    model = {} \n",
    "    for l in file_object:\n",
    "        line = l.split()\n",
    "        word = line[0]\n",
    "        value = np.array([float(val) for val in line[1:]])\n",
    "        model[word] = value\n",
    "    return model"
   ]
  },
  {
   "cell_type": "code",
   "execution_count": null,
   "metadata": {},
   "outputs": [],
   "source": [
    "file_with_path = \"../data/embeddings/glove.6B.50d.txt\"\n",
    "glove = load_glove(file_with_path)"
   ]
  },
  {
   "cell_type": "code",
   "execution_count": null,
   "metadata": {},
   "outputs": [],
   "source": [
    "glove['python'].reshape(1, -1)"
   ]
  },
  {
   "cell_type": "code",
   "execution_count": null,
   "metadata": {},
   "outputs": [],
   "source": [
    "# calulclate cosine similarity (import from sklearn for example)\n",
    "cosine_similarity(glove['fast'].reshape(1, -1), glove['speed'].reshape(1, -1))"
   ]
  },
  {
   "cell_type": "code",
   "execution_count": null,
   "metadata": {},
   "outputs": [],
   "source": [
    "# embeddings operations -> classic queen - woman + man =  king \n",
    "predicted_king = glove['queen'] - glove['woman'] + glove['man']\n",
    "actual_king = glove['king']\n",
    "\n",
    "cosine_similarity(actual_king.reshape(1, -1), predicted_king.reshape(1, -1)) # quite close"
   ]
  },
  {
   "cell_type": "markdown",
   "metadata": {},
   "source": [
    "# calculate own embeddings with CBOW (alternative would be skipgrams)"
   ]
  },
  {
   "cell_type": "code",
   "execution_count": 2,
   "metadata": {},
   "outputs": [],
   "source": [
    "text = \"\"\"How that personage haunted my dreams, I need scarcely tell you. On\n",
    "stormy nights, when the wind shook the four corners of the house and\n",
    "the surf roared along the cove and up the cliffs, I would see him in a\n",
    "thousand forms, and with a thousand diabolical expressions. Now the leg\n",
    "would be cut off at the knee, now at the hip, now he was a monstrous\n",
    "kind of a creature who had never had but the one leg, and that in the\n",
    "middle of his body. To see him leap and run and pursue me over hedge and\n",
    "ditch was the worst of nightmares. And altogether I paid pretty dear for\n",
    "my monthly fourpenny piece, in the shape of these abominable fancies\"\"\"\n",
    "\n",
    "text = text.replace(',','').replace('.','').lower().split()"
   ]
  },
  {
   "cell_type": "code",
   "execution_count": 3,
   "metadata": {},
   "outputs": [],
   "source": [
    "corpus  = set(text)\n",
    "corpus_length  = len(corpus)"
   ]
  },
  {
   "cell_type": "code",
   "execution_count": 14,
   "metadata": {},
   "outputs": [],
   "source": [
    "word_dict = {}\n",
    "inverse_word_dict = {}\n",
    "\n",
    "for i, word in enumerate(corpus):\n",
    "    word_dict[word] = i\n",
    "    inverse_word_dict[i] = word\n",
    "    "
   ]
  },
  {
   "cell_type": "code",
   "execution_count": 15,
   "metadata": {},
   "outputs": [],
   "source": [
    "data = []\n",
    "\n",
    "for i in range(2, len(text)-2):\n",
    "    sentence = [text[i-2], text[i-1], text[i+1], text[i+2]]\n",
    "    target = text[i]\n",
    "    data.append((sentence, target))"
   ]
  },
  {
   "cell_type": "code",
   "execution_count": 16,
   "metadata": {},
   "outputs": [
    {
     "data": {
      "text/plain": [
       "'how'"
      ]
     },
     "execution_count": 16,
     "metadata": {},
     "output_type": "execute_result"
    }
   ],
   "source": [
    "text[0]"
   ]
  },
  {
   "cell_type": "code",
   "execution_count": 17,
   "metadata": {},
   "outputs": [],
   "source": [
    "embedding_size = 20\n",
    "\n",
    "class CBOW(nn.Module):\n",
    "    def __init__(self, corpus_length, embedding_dim):\n",
    "        super(CBOW, self).__init__()\n",
    "        \n",
    "        self.embeddings = nn.Embedding(corpus_length, embedding_dim)\n",
    "        self.linear1 = nn.Linear(embedding_dim, 64)\n",
    "        self.linear2 = nn.Linear(64, corpus_length)\n",
    "        \n",
    "        self.activation_fun1 = nn.ReLU()\n",
    "        self.activation_fun2 = nn.LogSoftmax(dim = -1)\n",
    "        \n",
    "    def forward(self, inputs):\n",
    "        \n",
    "        embeds = sum(self.embeddings(inputs)).view(1, -1)\n",
    "        out = self.linear1(embeds)\n",
    "        out = self.activation_fun1(out)\n",
    "        out = self.linear2(out)\n",
    "        out = self.activation_fun2(out)\n",
    "        return out\n",
    "        \n",
    "    def get_word_embedding(self, word):\n",
    "        word = torch.LongTensor([word_dict[word]])\n",
    "        embd = self.embeddings(word)\n",
    "        return embd"
   ]
  },
  {
   "cell_type": "code",
   "execution_count": 18,
   "metadata": {},
   "outputs": [],
   "source": [
    "model = CBOW(corpus_length, embedding_size)\n",
    "loss_function = nn.NLLLoss()\n",
    "optimizer = optim.SGD(model.parameters(), lr = 0.01)\n"
   ]
  },
  {
   "cell_type": "code",
   "execution_count": 19,
   "metadata": {},
   "outputs": [],
   "source": [
    "def make_sentence_vector(sentence, word_dict):\n",
    "    idxs = [word_dict[w] for w in sentence]\n",
    "    return torch.tensor(idxs, dtype=torch.long)\n"
   ]
  },
  {
   "cell_type": "code",
   "execution_count": 20,
   "metadata": {},
   "outputs": [
    {
     "data": {
      "text/plain": [
       "tensor([63, 60, 16, 74])"
      ]
     },
     "execution_count": 20,
     "metadata": {},
     "output_type": "execute_result"
    }
   ],
   "source": [
    "make_sentence_vector(data[0][0], word_dict)"
   ]
  },
  {
   "cell_type": "code",
   "execution_count": 21,
   "metadata": {},
   "outputs": [
    {
     "data": {
      "text/plain": [
       "14"
      ]
     },
     "execution_count": 21,
     "metadata": {},
     "output_type": "execute_result"
    }
   ],
   "source": [
    "word_dict['personage']"
   ]
  },
  {
   "cell_type": "code",
   "execution_count": 22,
   "metadata": {},
   "outputs": [
    {
     "data": {
      "text/plain": [
       "CBOW(\n",
       "  (embeddings): Embedding(82, 20)\n",
       "  (linear1): Linear(in_features=20, out_features=64, bias=True)\n",
       "  (linear2): Linear(in_features=64, out_features=82, bias=True)\n",
       "  (activation_fun1): ReLU()\n",
       "  (activation_fun2): LogSoftmax(dim=-1)\n",
       ")"
      ]
     },
     "execution_count": 22,
     "metadata": {},
     "output_type": "execute_result"
    }
   ],
   "source": [
    "model"
   ]
  },
  {
   "cell_type": "code",
   "execution_count": 24,
   "metadata": {},
   "outputs": [
    {
     "name": "stdout",
     "output_type": "stream",
     "text": [
      "Epoch 0/100 loss: 18.832426071166992\n",
      "Epoch 1/100 loss: 16.646726608276367\n",
      "Epoch 2/100 loss: 14.897096633911133\n",
      "Epoch 3/100 loss: 13.437186241149902\n",
      "Epoch 4/100 loss: 12.206006050109863\n",
      "Epoch 5/100 loss: 11.161602020263672\n",
      "Epoch 6/100 loss: 10.26247501373291\n",
      "Epoch 7/100 loss: 9.483185768127441\n",
      "Epoch 8/100 loss: 8.809536933898926\n",
      "Epoch 9/100 loss: 8.208992004394531\n",
      "Epoch 10/100 loss: 7.68635368347168\n",
      "Epoch 11/100 loss: 7.216772556304932\n",
      "Epoch 12/100 loss: 6.801068305969238\n",
      "Epoch 13/100 loss: 6.423181056976318\n",
      "Epoch 14/100 loss: 6.082520484924316\n",
      "Epoch 15/100 loss: 5.777169704437256\n",
      "Epoch 16/100 loss: 5.494428634643555\n",
      "Epoch 17/100 loss: 5.238974094390869\n",
      "Epoch 18/100 loss: 5.003624439239502\n",
      "Epoch 19/100 loss: 4.787221431732178\n",
      "Epoch 20/100 loss: 4.588069915771484\n",
      "Epoch 21/100 loss: 4.402891159057617\n",
      "Epoch 22/100 loss: 4.231438159942627\n",
      "Epoch 23/100 loss: 4.072458744049072\n",
      "Epoch 24/100 loss: 3.9232451915740967\n",
      "Epoch 25/100 loss: 3.7837941646575928\n",
      "Epoch 26/100 loss: 3.6546950340270996\n",
      "Epoch 27/100 loss: 3.5319371223449707\n",
      "Epoch 28/100 loss: 3.4177334308624268\n",
      "Epoch 29/100 loss: 3.309597969055176\n",
      "Epoch 30/100 loss: 3.207111358642578\n",
      "Epoch 31/100 loss: 3.111319065093994\n",
      "Epoch 32/100 loss: 3.0201523303985596\n",
      "Epoch 33/100 loss: 2.9335930347442627\n",
      "Epoch 34/100 loss: 2.8520171642303467\n",
      "Epoch 35/100 loss: 2.7741377353668213\n",
      "Epoch 36/100 loss: 2.7004127502441406\n",
      "Epoch 37/100 loss: 2.6303014755249023\n",
      "Epoch 38/100 loss: 2.5634565353393555\n",
      "Epoch 39/100 loss: 2.4996182918548584\n",
      "Epoch 40/100 loss: 2.438652515411377\n",
      "Epoch 41/100 loss: 2.380582809448242\n",
      "Epoch 42/100 loss: 2.3248987197875977\n",
      "Epoch 43/100 loss: 2.2713825702667236\n",
      "Epoch 44/100 loss: 2.2207610607147217\n",
      "Epoch 45/100 loss: 2.1716322898864746\n",
      "Epoch 46/100 loss: 2.1247758865356445\n",
      "Epoch 47/100 loss: 2.0797407627105713\n",
      "Epoch 48/100 loss: 2.0361740589141846\n",
      "Epoch 49/100 loss: 1.9948906898498535\n",
      "Epoch 50/100 loss: 1.9547244310379028\n",
      "Epoch 51/100 loss: 1.915865421295166\n",
      "Epoch 52/100 loss: 1.878817081451416\n",
      "Epoch 53/100 loss: 1.8428714275360107\n",
      "Epoch 54/100 loss: 1.8081947565078735\n",
      "Epoch 55/100 loss: 1.774747610092163\n",
      "Epoch 56/100 loss: 1.7424689531326294\n",
      "Epoch 57/100 loss: 1.7113019227981567\n",
      "Epoch 58/100 loss: 1.6810277700424194\n",
      "Epoch 59/100 loss: 1.6518007516860962\n",
      "Epoch 60/100 loss: 1.6234995126724243\n",
      "Epoch 61/100 loss: 1.596166729927063\n",
      "Epoch 62/100 loss: 1.5694191455841064\n",
      "Epoch 63/100 loss: 1.5437579154968262\n",
      "Epoch 64/100 loss: 1.5186253786087036\n",
      "Epoch 65/100 loss: 1.4944459199905396\n",
      "Epoch 66/100 loss: 1.4710116386413574\n",
      "Epoch 67/100 loss: 1.4480825662612915\n",
      "Epoch 68/100 loss: 1.4259369373321533\n",
      "Epoch 69/100 loss: 1.4042832851409912\n",
      "Epoch 70/100 loss: 1.383457899093628\n",
      "Epoch 71/100 loss: 1.362940788269043\n",
      "Epoch 72/100 loss: 1.3431236743927002\n",
      "Epoch 73/100 loss: 1.323876142501831\n",
      "Epoch 74/100 loss: 1.305058240890503\n",
      "Epoch 75/100 loss: 1.2867565155029297\n",
      "Epoch 76/100 loss: 1.2689857482910156\n",
      "Epoch 77/100 loss: 1.2515584230422974\n",
      "Epoch 78/100 loss: 1.2346724271774292\n",
      "Epoch 79/100 loss: 1.2181518077850342\n",
      "Epoch 80/100 loss: 1.2020201683044434\n",
      "Epoch 81/100 loss: 1.186340570449829\n",
      "Epoch 82/100 loss: 1.171001672744751\n",
      "Epoch 83/100 loss: 1.1560263633728027\n",
      "Epoch 84/100 loss: 1.1414515972137451\n",
      "Epoch 85/100 loss: 1.1271342039108276\n",
      "Epoch 86/100 loss: 1.1132380962371826\n",
      "Epoch 87/100 loss: 1.0995817184448242\n",
      "Epoch 88/100 loss: 1.0862650871276855\n",
      "Epoch 89/100 loss: 1.0732300281524658\n",
      "Epoch 90/100 loss: 1.0605270862579346\n",
      "Epoch 91/100 loss: 1.04806387424469\n",
      "Epoch 92/100 loss: 1.0358730554580688\n",
      "Epoch 93/100 loss: 1.023917317390442\n",
      "Epoch 94/100 loss: 1.0122877359390259\n",
      "Epoch 95/100 loss: 1.0009022951126099\n",
      "Epoch 96/100 loss: 0.9896092414855957\n",
      "Epoch 97/100 loss: 0.9787775278091431\n",
      "Epoch 98/100 loss: 0.96796053647995\n",
      "Epoch 99/100 loss: 0.9574769139289856\n"
     ]
    }
   ],
   "source": [
    "epochs =100\n",
    "for epoch in range(epochs):\n",
    "    epoch_loss = 0\n",
    "    for context_words, target_word in data:\n",
    "        \n",
    "        inputs = make_sentence_vector(context_words, word_dict)\n",
    "        target = [word_dict[target_word]]\n",
    "        model.zero_grad()\n",
    "        log_probs = model(inputs)\n",
    "        loss = loss_function(log_probs, torch.tensor(target, dtype=torch.long))\n",
    "        loss.backward()\n",
    "        optimizer.step()\n",
    "        epoch_loss += loss.data\n",
    "    print(f\"Epoch {epoch}/{epochs} loss: {epoch_loss.item()}\")"
   ]
  },
  {
   "cell_type": "code",
   "execution_count": null,
   "metadata": {},
   "outputs": [],
   "source": []
  }
 ],
 "metadata": {
  "kernelspec": {
   "display_name": "Python 3",
   "language": "python",
   "name": "python3"
  },
  "language_info": {
   "codemirror_mode": {
    "name": "ipython",
    "version": 3
   },
   "file_extension": ".py",
   "mimetype": "text/x-python",
   "name": "python",
   "nbconvert_exporter": "python",
   "pygments_lexer": "ipython3",
   "version": "3.8.2"
  }
 },
 "nbformat": 4,
 "nbformat_minor": 4
}
